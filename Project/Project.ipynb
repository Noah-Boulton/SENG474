{
 "cells": [
  {
   "cell_type": "markdown",
   "metadata": {},
   "source": [
    "From https://gitlab.com/dword4/nhlapi/tree/master\n",
    "\n",
    "Import numpy, requests, and json modules"
   ]
  },
  {
   "cell_type": "code",
   "execution_count": 2,
   "metadata": {
    "collapsed": true
   },
   "outputs": [],
   "source": [
    "import numpy as np\n",
    "#import pandas as pd\n",
    "import requests\n",
    "import json"
   ]
  },
  {
   "cell_type": "markdown",
   "metadata": {},
   "source": [
    "Get the rosters for the 2017-2018 season as a json object"
   ]
  },
  {
   "cell_type": "code",
   "execution_count": null,
   "metadata": {
    "collapsed": true
   },
   "outputs": [],
   "source": [
    "team_rosters_2017_2018 = requests.get('https://statsapi.web.nhl.com/api/v1/teams?expand=team.roster&season=20172018')"
   ]
  },
  {
   "cell_type": "code",
   "execution_count": null,
   "metadata": {
    "collapsed": true
   },
   "outputs": [],
   "source": [
    "team_rosters_2017_2018 = team_rosters_2017_2018.json()"
   ]
  },
  {
   "cell_type": "markdown",
   "metadata": {},
   "source": [
    "Print out all the team names"
   ]
  },
  {
   "cell_type": "code",
   "execution_count": null,
   "metadata": {},
   "outputs": [],
   "source": [
    "for i in range(0, len(team_rosters_2017_2018['teams'])):\n",
    "    print(team_rosters_2017_2018['teams'][i]['name'])"
   ]
  },
  {
   "cell_type": "markdown",
   "metadata": {},
   "source": [
    "Get every player from every team\n",
    "Makes a players array holding [player_id, player_name, team]"
   ]
  },
  {
   "cell_type": "code",
   "execution_count": null,
   "metadata": {
    "collapsed": true
   },
   "outputs": [],
   "source": [
    "players_2017_2018 = []\n",
    "for i in range(0, len(team_rosters_2017_2018['teams'])):\n",
    "    #print(team_rosters_2017_2018['teams'][i]['name'])\n",
    "    for j in range(0, len(team_rosters_2017_2018['teams'][i]['roster']['roster'])):\n",
    "        #print(team_rosters_2017_2018['teams'][i]['roster']['roster'][j]['person'])\n",
    "        player = [team_rosters_2017_2018['teams'][i]['roster']['roster'][j]['person']['id'], \n",
    "                  team_rosters_2017_2018['teams'][i]['roster']['roster'][j]['person']['fullName'],\n",
    "                 team_rosters_2017_2018['teams'][i]['name']]\n",
    "        if (team_rosters_2017_2018['teams'][i]['roster']['roster'][j]['position']['code'] != 'G'):\n",
    "            players_2017_2018.append(player)\n",
    "                                                                    \n",
    "                                                                    "
   ]
  },
  {
   "cell_type": "code",
   "execution_count": null,
   "metadata": {},
   "outputs": [],
   "source": [
    "for i in range(0, len(players_2017_2018)):\n",
    "    print(players_2017_2018[i])"
   ]
  },
  {
   "cell_type": "markdown",
   "metadata": {},
   "source": [
    "Get the stats for each player as an array of [timeOnIce, assists, goals, pim, shots, games, hits, powerPlayGoals, powerPlayPoints, powerPlayTimeOnIce, evenTimeOnIce, penaltyMinutes, faceOffPct, shotPct, gameWinningGoals, overTimeGoals, shortHandedGoals, shortHandedPoints, shortHandedTimeOnIce, blocked, plusMinus, points, shifts, timeOnIcePerGame, evenTimeOnIcePerGame, shortHandedTimeOnIcePerGame, powerPlayTimeOnIcePerGame]"
   ]
  },
  {
   "cell_type": "code",
   "execution_count": null,
   "metadata": {
    "scrolled": true
   },
   "outputs": [],
   "source": [
    "players_2017_2018_stats = []\n",
    "for i in range(0, len(players_2017_2018)): \n",
    "    stats = requests.get('https://statsapi.web.nhl.com/api/v1/people/' \n",
    "                       + str(players_2017_2018[i][0]) \n",
    "                       + '/stats?stats=statsSingleSeason&season=20172018').json()\n",
    "    stats = stats['stats'][0]['splits'][0]['stat']\n",
    "    stats_array = []\n",
    "    stats_array.append(stats['timeOnIce'])\n",
    "    stats_array.append(stats['assists'])\n",
    "    stats_array.append(stats['goals'])\n",
    "    stats_array.append(stats['pim'])\n",
    "    stats_array.append(stats['shots'])\n",
    "    stats_array.append(stats['games'])\n",
    "    stats_array.append(stats['hits'])\n",
    "    stats_array.append(stats['powerPlayGoals'])\n",
    "    stats_array.append(stats['powerPlayPoints'])\n",
    "    stats_array.append(stats['powerPlayTimeOnIce'])\n",
    "    stats_array.append(stats['evenTimeOnIce'])\n",
    "    stats_array.append(stats['penaltyMinutes'])\n",
    "    stats_array.append(stats['faceOffPct'])\n",
    "    stats_array.append(stats['shotPct'])\n",
    "    stats_array.append(stats['gameWinningGoals'])\n",
    "    stats_array.append(stats['overTimeGoals'])\n",
    "    stats_array.append(stats['shortHandedGoals'])\n",
    "    stats_array.append(stats['shortHandedPoints'])\n",
    "    stats_array.append(stats['shortHandedTimeOnIce'])\n",
    "    stats_array.append(stats['blocked'])\n",
    "    stats_array.append(stats['plusMinus'])\n",
    "    stats_array.append(stats['points'])\n",
    "    stats_array.append(stats['shifts'])\n",
    "    stats_array.append(stats['timeOnIcePerGame'])\n",
    "    stats_array.append(stats['evenTimeOnIcePerGame'])\n",
    "    stats_array.append(stats['shortHandedTimeOnIcePerGame'])\n",
    "    stats_array.append(stats['powerPlayTimeOnIcePerGame'])\n",
    "    players_2017_2018_stats.append(stats_array)\n",
    "\n",
    "print(len(players_2017_2018_stats))\n",
    "print(len(players_2017_2018_stats[0]))\n",
    "    "
   ]
  },
  {
   "cell_type": "markdown",
   "metadata": {},
   "source": [
    "Append the stats for each player to their id, name, and team"
   ]
  },
  {
   "cell_type": "code",
   "execution_count": null,
   "metadata": {
    "collapsed": true
   },
   "outputs": [],
   "source": [
    "skaters_2017_2018 = []\n",
    "for i in range(0, len(players_2017_2018)):\n",
    "    skaters_2017_2018.append(players_2017_2018[i] + players_2017_2018_stats[i])\n"
   ]
  },
  {
   "cell_type": "code",
   "execution_count": null,
   "metadata": {},
   "outputs": [],
   "source": [
    "print(skaters_2017_2018)"
   ]
  },
  {
   "cell_type": "markdown",
   "metadata": {},
   "source": [
    "Save the skaters array as csv data for anaylsis "
   ]
  },
  {
   "cell_type": "code",
   "execution_count": null,
   "metadata": {
    "collapsed": true,
    "scrolled": false
   },
   "outputs": [],
   "source": [
    "np.savetxt('data/skaters_2017_2018.csv', skaters_2017_2018, fmt='%s', delimiter=',')"
   ]
  },
  {
   "cell_type": "code",
   "execution_count": null,
   "metadata": {
    "collapsed": true
   },
   "outputs": [],
   "source": [
    "def get_csv(y1, y2):\n",
    "    team_rosters = requests.get('https://statsapi.web.nhl.com/api/v1/teams?expand=team.roster&season=' + y1 + y2)\n",
    "    #print('https://statsapi.web.nhl.com/api/v1/teams?expand=team.roster&season=' + y1 + y2)\n",
    "    team_rosters = team_rosters.json()\n",
    "    players= []\n",
    "    for i in range(0, len(team_rosters['teams'])):\n",
    "        #print(team_rosters_2017_2018['teams'][i]['name'])\n",
    "        for j in range(0, len(team_rosters['teams'][i]['roster']['roster'])):\n",
    "            #print(team_rosters_2017_2018['teams'][i]['roster']['roster'][j]['person'])\n",
    "            player = [team_rosters['teams'][i]['roster']['roster'][j]['person']['id'], \n",
    "                      team_rosters['teams'][i]['roster']['roster'][j]['person']['fullName'],\n",
    "                     team_rosters['teams'][i]['name']]\n",
    "            if (team_rosters['teams'][i]['roster']['roster'][j]['position']['code'] != 'G'):\n",
    "                players.append(player)\n",
    "    players_stats = []\n",
    "    labels = requests.get('https://statsapi.web.nhl.com/api/v1/people/' \n",
    "                           + str(players[i][0]) \n",
    "                           + '/stats?stats=statsSingleSeason&season=' + y1 + y2).json()\n",
    "    labels = labels['stats'][0]['splits'][0]['stat']\n",
    "    header = ['id', 'fullName', 'teamName']\n",
    "    for label in labels:\n",
    "        header.append(label)\n",
    "    #print(labels)\n",
    "    #print(header)\n",
    "    for i in range(0, len(players)): \n",
    "        #print(str(players[i][0]))\n",
    "        stats = requests.get('https://statsapi.web.nhl.com/api/v1/people/' \n",
    "                           + str(players[i][0]) \n",
    "                           + '/stats?stats=statsSingleSeason&season=' + y1 + y2).json()\n",
    "        if(stats['stats'][0]['splits'] == []):\n",
    "            players_stats.append([0] * len(labels))\n",
    "            continue\n",
    "        stats = stats['stats'][0]['splits'][0]['stat']\n",
    "        \n",
    "        stats_array = []\n",
    "        for label in labels:\n",
    "            if label in stats:\n",
    "                stats_array.append(stats[label])\n",
    "            else:\n",
    "                stats_array.append(0)\n",
    "        players_stats.append(stats_array)\n",
    "        \n",
    "    skaters = []\n",
    "    skaters.append(header)\n",
    "    for i in range(0, len(players)):\n",
    "        skaters.append(players[i] + players_stats[i])\n",
    "    return skaters"
   ]
  },
  {
   "cell_type": "code",
   "execution_count": null,
   "metadata": {
    "collapsed": true
   },
   "outputs": [],
   "source": [
    "skaters = get_csv('2016', '2017')\n",
    "np.savetxt('data/skaters_2016_2017.csv', skaters, fmt='%s', delimiter=',')"
   ]
  },
  {
   "cell_type": "code",
   "execution_count": null,
   "metadata": {
    "collapsed": true
   },
   "outputs": [],
   "source": [
    "skaters = get_csv('2015', '2016')\n",
    "np.savetxt('data/skaters_2015_2016.csv', skaters, fmt='%s', delimiter=',')"
   ]
  },
  {
   "cell_type": "code",
   "execution_count": null,
   "metadata": {
    "collapsed": true
   },
   "outputs": [],
   "source": [
    "skaters = get_csv('2014', '2015')\n",
    "np.savetxt('data/skaters_2014_2015.csv', skaters, fmt='%s', delimiter=',')"
   ]
  },
  {
   "cell_type": "code",
   "execution_count": null,
   "metadata": {
    "collapsed": true
   },
   "outputs": [],
   "source": [
    "skaters = get_csv('1970', '1971')\n",
    "np.savetxt('data/skaters_1970_1971.csv', skaters, fmt='%s', delimiter=',')"
   ]
  },
  {
   "cell_type": "code",
   "execution_count": null,
   "metadata": {
    "collapsed": true
   },
   "outputs": [],
   "source": [
    "stats = requests.get('https://statsapi.web.nhl.com/api/v1/people/' \n",
    "                       + str(8445135) \n",
    "                       + '/stats?stats=statsSingleSeason&season=19171918').json()"
   ]
  },
  {
   "cell_type": "code",
   "execution_count": null,
   "metadata": {},
   "outputs": [],
   "source": [
    "stats"
   ]
  },
  {
   "cell_type": "code",
   "execution_count": null,
   "metadata": {
    "collapsed": true
   },
   "outputs": [],
   "source": [
    "stats = stats = stats['stats'][0]['splits'][0]['stat']"
   ]
  },
  {
   "cell_type": "code",
   "execution_count": null,
   "metadata": {
    "collapsed": true
   },
   "outputs": [],
   "source": [
    "player_stats = []\n",
    "for x in stats:\n",
    "    player_stats.append(x)"
   ]
  },
  {
   "cell_type": "code",
   "execution_count": null,
   "metadata": {},
   "outputs": [],
   "source": [
    "player_stats"
   ]
  },
  {
   "cell_type": "code",
   "execution_count": null,
   "metadata": {
    "collapsed": true
   },
   "outputs": [],
   "source": [
    "def get_data(start, end):\n",
    "    for i in range(start, end):\n",
    "        if(i == 2004):\n",
    "            continue\n",
    "        print(\"Getting data for \" + str(i) + \"-\" + str(i+1) + \" season.\")\n",
    "        skaters = get_csv(str(i), str(i+1))\n",
    "        np.savetxt('data/skaters_' + str(i) + '_' + str(i+1) + '.csv', skaters, fmt='%s', delimiter=',')"
   ]
  },
  {
   "cell_type": "code",
   "execution_count": null,
   "metadata": {},
   "outputs": [],
   "source": [
    "get_data(2005,2018)"
   ]
  },
  {
   "cell_type": "markdown",
   "metadata": {
    "collapsed": true
   },
   "source": [
    "Get Team data"
   ]
  },
  {
   "cell_type": "code",
   "execution_count": null,
   "metadata": {},
   "outputs": [],
   "source": [
    "teams = requests.get('https://statsapi.web.nhl.com/api/v1/teams?season=20172018')\n",
    "teams = teams.json()"
   ]
  },
  {
   "cell_type": "code",
   "execution_count": null,
   "metadata": {},
   "outputs": [],
   "source": [
    "team_id_name = []\n",
    "for i in range(0, len(teams['teams'])):\n",
    "    team_arr = [teams['teams'][i]['id'], teams['teams'][i]['name']]\n",
    "    team_id_name.append(team_arr)\n",
    "#print(team_id_name)\n",
    "\n",
    "labels = requests.get('https://statsapi.web.nhl.com/api/v1/teams/' \n",
    "                           + str(team_id_name[0][0])\n",
    "                           + '/stats?stats=statsSingleSeason&season=19901991').json()\n",
    "labels = labels['stats'][0]['splits'][0]['stat']\n",
    "header = ['id', 'teamName']\n",
    "for label in labels:\n",
    "    header.append(label)\n",
    "#print(header)\n",
    "\n",
    "team_stats = []\n",
    "for i in range(0, len(team_id_name)):\n",
    "    stats = requests.get('https://statsapi.web.nhl.com/api/v1/teams/' \n",
    "                         + str(team_id_name[i][0]) \n",
    "                         + '/stats?stats=statsSingleSeason&season=19901991').json()\n",
    "    if(stats['stats'][0]['splits'] == []):\n",
    "        team_stats.append([0] * len(labels))\n",
    "        continue\n",
    "    stats = stats['stats'][0]['splits'][0]['stat']\n",
    "    stats_array = []\n",
    "    for label in labels:\n",
    "        if label in stats:\n",
    "            stats_array.append(stats[label])\n",
    "        else:\n",
    "            stats_array.append(0)\n",
    "    team_stats.append(stats_array)\n",
    "\n",
    "    \n",
    "teams_stats_final = []\n",
    "teams_stats_final.append(header)\n",
    "for i in range(0, len(team_id_name)):\n",
    "    teams_stats_final.append(team_id_name[i] + team_stats[i])    \n",
    "\n",
    "np.savetxt('team_data/teams_19901991.csv', teams_stats_final, fmt='%s', delimiter=',')"
   ]
  },
  {
   "cell_type": "code",
   "execution_count": 3,
   "metadata": {
    "collapsed": true
   },
   "outputs": [],
   "source": [
    "def get_csv_team(y1, y2):\n",
    "    teams = requests.get('https://statsapi.web.nhl.com/api/v1/teams?season=' + str(y1) + str(y2))\n",
    "    teams = teams.json()\n",
    "    team_id_name = []\n",
    "    for i in range(0, len(teams['teams'])):\n",
    "        team_arr = [teams['teams'][i]['id'], teams['teams'][i]['name']]\n",
    "        team_id_name.append(team_arr)\n",
    "\n",
    "    labels = requests.get('https://statsapi.web.nhl.com/api/v1/teams/' \n",
    "                           + str(team_id_name[0][0])\n",
    "                           + '/stats?stats=statsSingleSeason&season=' + str(y1) + str(y2)).json()\n",
    "    labels = labels['stats'][0]['splits'][0]['stat']\n",
    "    header = ['id', 'teamName']\n",
    "    for label in labels:\n",
    "        header.append(label)\n",
    "\n",
    "    team_stats = []\n",
    "    for i in range(0, len(team_id_name)):\n",
    "        stats = requests.get('https://statsapi.web.nhl.com/api/v1/teams/' \n",
    "                             + str(team_id_name[i][0]) \n",
    "                             + '/stats?stats=statsSingleSeason&season=' + str(y1) + str(y2)).json()\n",
    "        if(stats['stats'][0]['splits'] == []):\n",
    "            team_stats.append([0] * len(labels))\n",
    "            continue\n",
    "        stats = stats['stats'][0]['splits'][0]['stat']\n",
    "        stats_array = []\n",
    "        for label in labels:\n",
    "            if label in stats:\n",
    "                stats_array.append(stats[label])\n",
    "            else:\n",
    "                stats_array.append(0)\n",
    "        team_stats.append(stats_array)\n",
    "\n",
    "    \n",
    "    teams_stats_final = []\n",
    "    teams_stats_final.append(header)\n",
    "    for i in range(0, len(team_id_name)):\n",
    "        teams_stats_final.append(team_id_name[i] + team_stats[i]) \n",
    "    return teams_stats_final"
   ]
  },
  {
   "cell_type": "code",
   "execution_count": 9,
   "metadata": {
    "collapsed": true
   },
   "outputs": [],
   "source": [
    "def get_team_data(start, end):\n",
    "    for i in range(start, end):\n",
    "        if(i == 2004):\n",
    "            continue\n",
    "        print(\"Getting data for \" + str(i) + \"-\" + str(i+1) + \" season.\")\n",
    "        data = get_csv_team(str(i), str(i+1))\n",
    "        np.savetxt('team_data/teams_' + str(i) + '_' + str(i+1) + '.csv', data, fmt='%s', delimiter=',')"
   ]
  },
  {
   "cell_type": "code",
   "execution_count": 7,
   "metadata": {},
   "outputs": [
    {
     "name": "stdout",
     "output_type": "stream",
     "text": [
      "Getting data for 1917-1918 season.\n",
      "Getting data for 1918-1919 season.\n",
      "Getting data for 1919-1920 season.\n",
      "Getting data for 1920-1921 season.\n",
      "Getting data for 1921-1922 season.\n",
      "Getting data for 1922-1923 season.\n",
      "Getting data for 1923-1924 season.\n",
      "Getting data for 1924-1925 season.\n",
      "Getting data for 1925-1926 season.\n",
      "Getting data for 1926-1927 season.\n",
      "Getting data for 1927-1928 season.\n",
      "Getting data for 1928-1929 season.\n",
      "Getting data for 1929-1930 season.\n",
      "Getting data for 1930-1931 season.\n",
      "Getting data for 1931-1932 season.\n",
      "Getting data for 1932-1933 season.\n",
      "Getting data for 1933-1934 season.\n",
      "Getting data for 1934-1935 season.\n",
      "Getting data for 1935-1936 season.\n",
      "Getting data for 1936-1937 season.\n",
      "Getting data for 1937-1938 season.\n",
      "Getting data for 1938-1939 season.\n",
      "Getting data for 1939-1940 season.\n",
      "Getting data for 1940-1941 season.\n",
      "Getting data for 1941-1942 season.\n",
      "Getting data for 1942-1943 season.\n",
      "Getting data for 1943-1944 season.\n",
      "Getting data for 1944-1945 season.\n",
      "Getting data for 1945-1946 season.\n",
      "Getting data for 1946-1947 season.\n",
      "Getting data for 1947-1948 season.\n",
      "Getting data for 1948-1949 season.\n",
      "Getting data for 1949-1950 season.\n",
      "Getting data for 1950-1951 season.\n",
      "Getting data for 1951-1952 season.\n",
      "Getting data for 1952-1953 season.\n",
      "Getting data for 1953-1954 season.\n",
      "Getting data for 1954-1955 season.\n",
      "Getting data for 1955-1956 season.\n",
      "Getting data for 1956-1957 season.\n",
      "Getting data for 1957-1958 season.\n",
      "Getting data for 1958-1959 season.\n",
      "Getting data for 1959-1960 season.\n",
      "Getting data for 1960-1961 season.\n",
      "Getting data for 1961-1962 season.\n",
      "Getting data for 1962-1963 season.\n",
      "Getting data for 1963-1964 season.\n",
      "Getting data for 1964-1965 season.\n",
      "Getting data for 1965-1966 season.\n",
      "Getting data for 1966-1967 season.\n",
      "Getting data for 1967-1968 season.\n",
      "Getting data for 1968-1969 season.\n",
      "Getting data for 1969-1970 season.\n",
      "Getting data for 1970-1971 season.\n",
      "Getting data for 1971-1972 season.\n",
      "Getting data for 1972-1973 season.\n",
      "Getting data for 1973-1974 season.\n",
      "Getting data for 1974-1975 season.\n",
      "Getting data for 1975-1976 season.\n",
      "Getting data for 1976-1977 season.\n",
      "Getting data for 1977-1978 season.\n",
      "Getting data for 1978-1979 season.\n",
      "Getting data for 1979-1980 season.\n",
      "Getting data for 1980-1981 season.\n",
      "Getting data for 1981-1982 season.\n",
      "Getting data for 1982-1983 season.\n",
      "Getting data for 1983-1984 season.\n",
      "Getting data for 1984-1985 season.\n",
      "Getting data for 1985-1986 season.\n",
      "Getting data for 1986-1987 season.\n",
      "Getting data for 1987-1988 season.\n",
      "Getting data for 1988-1989 season.\n",
      "Getting data for 1989-1990 season.\n",
      "Getting data for 1990-1991 season.\n",
      "Getting data for 1991-1992 season.\n",
      "Getting data for 1992-1993 season.\n",
      "Getting data for 1993-1994 season.\n",
      "Getting data for 1994-1995 season.\n",
      "Getting data for 1995-1996 season.\n",
      "Getting data for 1996-1997 season.\n",
      "Getting data for 1997-1998 season.\n",
      "Getting data for 1998-1999 season.\n",
      "Getting data for 1999-2000 season.\n",
      "Getting data for 2000-2001 season.\n",
      "Getting data for 2001-2002 season.\n",
      "Getting data for 2002-2003 season.\n",
      "Getting data for 2003-2004 season.\n",
      "Getting data for 2004-2005 season.\n"
     ]
    },
    {
     "ename": "IndexError",
     "evalue": "list index out of range",
     "output_type": "error",
     "traceback": [
      "\u001b[0;31m---------------------------------------------------------------------------\u001b[0m",
      "\u001b[0;31mIndexError\u001b[0m                                Traceback (most recent call last)",
      "\u001b[0;32m<ipython-input-7-9799fd4076ad>\u001b[0m in \u001b[0;36m<module>\u001b[0;34m()\u001b[0m\n\u001b[0;32m----> 1\u001b[0;31m \u001b[0mget_team_data\u001b[0m\u001b[0;34m(\u001b[0m\u001b[0;36m1917\u001b[0m\u001b[0;34m,\u001b[0m\u001b[0;36m2018\u001b[0m\u001b[0;34m)\u001b[0m\u001b[0;34m\u001b[0m\u001b[0m\n\u001b[0m",
      "\u001b[0;32m<ipython-input-6-ab978257f629>\u001b[0m in \u001b[0;36mget_team_data\u001b[0;34m(start, end)\u001b[0m\n\u001b[1;32m      2\u001b[0m     \u001b[0;32mfor\u001b[0m \u001b[0mi\u001b[0m \u001b[0;32min\u001b[0m \u001b[0mrange\u001b[0m\u001b[0;34m(\u001b[0m\u001b[0mstart\u001b[0m\u001b[0;34m,\u001b[0m \u001b[0mend\u001b[0m\u001b[0;34m)\u001b[0m\u001b[0;34m:\u001b[0m\u001b[0;34m\u001b[0m\u001b[0m\n\u001b[1;32m      3\u001b[0m         \u001b[0mprint\u001b[0m\u001b[0;34m(\u001b[0m\u001b[0;34m\"Getting data for \"\u001b[0m \u001b[0;34m+\u001b[0m \u001b[0mstr\u001b[0m\u001b[0;34m(\u001b[0m\u001b[0mi\u001b[0m\u001b[0;34m)\u001b[0m \u001b[0;34m+\u001b[0m \u001b[0;34m\"-\"\u001b[0m \u001b[0;34m+\u001b[0m \u001b[0mstr\u001b[0m\u001b[0;34m(\u001b[0m\u001b[0mi\u001b[0m\u001b[0;34m+\u001b[0m\u001b[0;36m1\u001b[0m\u001b[0;34m)\u001b[0m \u001b[0;34m+\u001b[0m \u001b[0;34m\" season.\"\u001b[0m\u001b[0;34m)\u001b[0m\u001b[0;34m\u001b[0m\u001b[0m\n\u001b[0;32m----> 4\u001b[0;31m         \u001b[0mdata\u001b[0m \u001b[0;34m=\u001b[0m \u001b[0mget_csv_team\u001b[0m\u001b[0;34m(\u001b[0m\u001b[0mstr\u001b[0m\u001b[0;34m(\u001b[0m\u001b[0mi\u001b[0m\u001b[0;34m)\u001b[0m\u001b[0;34m,\u001b[0m \u001b[0mstr\u001b[0m\u001b[0;34m(\u001b[0m\u001b[0mi\u001b[0m\u001b[0;34m+\u001b[0m\u001b[0;36m1\u001b[0m\u001b[0;34m)\u001b[0m\u001b[0;34m)\u001b[0m\u001b[0;34m\u001b[0m\u001b[0m\n\u001b[0m\u001b[1;32m      5\u001b[0m         \u001b[0mnp\u001b[0m\u001b[0;34m.\u001b[0m\u001b[0msavetxt\u001b[0m\u001b[0;34m(\u001b[0m\u001b[0;34m'team_data/teams_'\u001b[0m \u001b[0;34m+\u001b[0m \u001b[0mstr\u001b[0m\u001b[0;34m(\u001b[0m\u001b[0mi\u001b[0m\u001b[0;34m)\u001b[0m \u001b[0;34m+\u001b[0m \u001b[0;34m'_'\u001b[0m \u001b[0;34m+\u001b[0m \u001b[0mstr\u001b[0m\u001b[0;34m(\u001b[0m\u001b[0mi\u001b[0m\u001b[0;34m+\u001b[0m\u001b[0;36m1\u001b[0m\u001b[0;34m)\u001b[0m \u001b[0;34m+\u001b[0m \u001b[0;34m'.csv'\u001b[0m\u001b[0;34m,\u001b[0m \u001b[0mdata\u001b[0m\u001b[0;34m,\u001b[0m \u001b[0mfmt\u001b[0m\u001b[0;34m=\u001b[0m\u001b[0;34m'%s'\u001b[0m\u001b[0;34m,\u001b[0m \u001b[0mdelimiter\u001b[0m\u001b[0;34m=\u001b[0m\u001b[0;34m','\u001b[0m\u001b[0;34m)\u001b[0m\u001b[0;34m\u001b[0m\u001b[0m\n",
      "\u001b[0;32m<ipython-input-3-b67afbfad912>\u001b[0m in \u001b[0;36mget_csv_team\u001b[0;34m(y1, y2)\u001b[0m\n\u001b[1;32m     10\u001b[0m                            \u001b[0;34m+\u001b[0m \u001b[0mstr\u001b[0m\u001b[0;34m(\u001b[0m\u001b[0mteam_id_name\u001b[0m\u001b[0;34m[\u001b[0m\u001b[0;36m0\u001b[0m\u001b[0;34m]\u001b[0m\u001b[0;34m[\u001b[0m\u001b[0;36m0\u001b[0m\u001b[0;34m]\u001b[0m\u001b[0;34m)\u001b[0m\u001b[0;34m\u001b[0m\u001b[0m\n\u001b[1;32m     11\u001b[0m                            + '/stats?stats=statsSingleSeason&season=' + str(y1) + str(y2)).json()\n\u001b[0;32m---> 12\u001b[0;31m     \u001b[0mlabels\u001b[0m \u001b[0;34m=\u001b[0m \u001b[0mlabels\u001b[0m\u001b[0;34m[\u001b[0m\u001b[0;34m'stats'\u001b[0m\u001b[0;34m]\u001b[0m\u001b[0;34m[\u001b[0m\u001b[0;36m0\u001b[0m\u001b[0;34m]\u001b[0m\u001b[0;34m[\u001b[0m\u001b[0;34m'splits'\u001b[0m\u001b[0;34m]\u001b[0m\u001b[0;34m[\u001b[0m\u001b[0;36m0\u001b[0m\u001b[0;34m]\u001b[0m\u001b[0;34m[\u001b[0m\u001b[0;34m'stat'\u001b[0m\u001b[0;34m]\u001b[0m\u001b[0;34m\u001b[0m\u001b[0m\n\u001b[0m\u001b[1;32m     13\u001b[0m     \u001b[0mheader\u001b[0m \u001b[0;34m=\u001b[0m \u001b[0;34m[\u001b[0m\u001b[0;34m'id'\u001b[0m\u001b[0;34m,\u001b[0m \u001b[0;34m'teamName'\u001b[0m\u001b[0;34m]\u001b[0m\u001b[0;34m\u001b[0m\u001b[0m\n\u001b[1;32m     14\u001b[0m     \u001b[0;32mfor\u001b[0m \u001b[0mlabel\u001b[0m \u001b[0;32min\u001b[0m \u001b[0mlabels\u001b[0m\u001b[0;34m:\u001b[0m\u001b[0;34m\u001b[0m\u001b[0m\n",
      "\u001b[0;31mIndexError\u001b[0m: list index out of range"
     ]
    }
   ],
   "source": [
    "get_team_data(1917,2018)"
   ]
  },
  {
   "cell_type": "code",
   "execution_count": 11,
   "metadata": {},
   "outputs": [
    {
     "name": "stdout",
     "output_type": "stream",
     "text": [
      "Getting data for 2003-2004 season.\n"
     ]
    }
   ],
   "source": []
  },
  {
   "cell_type": "code",
   "execution_count": null,
   "metadata": {
    "collapsed": true
   },
   "outputs": [],
   "source": []
  }
 ],
 "metadata": {
  "kernelspec": {
   "display_name": "Python 3",
   "language": "python",
   "name": "python3"
  },
  "language_info": {
   "codemirror_mode": {
    "name": "ipython",
    "version": 3
   },
   "file_extension": ".py",
   "mimetype": "text/x-python",
   "name": "python",
   "nbconvert_exporter": "python",
   "pygments_lexer": "ipython3",
   "version": "3.6.3"
  }
 },
 "nbformat": 4,
 "nbformat_minor": 2
}

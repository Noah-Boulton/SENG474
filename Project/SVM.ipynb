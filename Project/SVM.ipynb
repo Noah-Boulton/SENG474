{
 "cells": [
  {
   "cell_type": "code",
   "execution_count": 29,
   "metadata": {
    "collapsed": true
   },
   "outputs": [],
   "source": [
    "import pandas as pd\n",
    "import numpy as np"
   ]
  },
  {
   "cell_type": "code",
   "execution_count": 30,
   "metadata": {
    "collapsed": true
   },
   "outputs": [],
   "source": [
    "def normalize(data):\n",
    "    max_data = np.max(data, axis=0)\n",
    "    min_data = np.min(data, axis=0)\n",
    "    stats = ['away_wins', 'away_losses', 'away_ot',\n",
    "             'away_pts', 'away_ptPctg', 'away_goalsPerGame',\n",
    "             'away_goalsAgainstPerGame', 'away_evGGARatio',\n",
    "             'away_powerPlayPercentage', 'away_powerPlayGoals',\n",
    "             'away_powerPlayGoalsAgainst', 'away_powerPlayOpportunities',\n",
    "             'away_penaltyKillPercentage', 'away_shotsPerGame', 'away_shotsAllowed',\n",
    "             'away_winScoreFirst', 'away_winOppScoreFirst', 'away_winLeadFirstPer',\n",
    "             'away_winLeadSecondPer', 'away_winOutshootOpp', 'away_winOutshotByOpp',\n",
    "             'away_faceOffsTaken', 'away_faceOffsWon', 'away_faceOffsLost',\n",
    "             'away_faceOffWinPercentage', 'away_shootingPctg', 'away_savePctg',\n",
    "             'home_wins', 'home_losses', 'home_ot', 'home_pts', 'home_ptPctg',\n",
    "             'home_goalsPerGame', 'home_goalsAgainstPerGame', 'home_evGGARatio',\n",
    "             'home_powerPlayPercentage', 'home_powerPlayGoals',\n",
    "             'home_powerPlayGoalsAgainst', 'home_powerPlayOpportunities',\n",
    "             'home_penaltyKillPercentage', 'home_shotsPerGame', 'home_shotsAllowed',\n",
    "             'home_winScoreFirst', 'home_winOppScoreFirst', 'home_winLeadFirstPer',\n",
    "             'home_winLeadSecondPer', 'home_winOutshootOpp', 'home_winOutshotByOpp',\n",
    "             'home_faceOffsTaken', 'home_faceOffsWon', 'home_faceOffsLost',\n",
    "             'home_faceOffWinPercentage', 'home_shootingPctg', 'home_savePctg']\n",
    "    for stat in stats:\n",
    "        data[stat] = (data[stat] - min_data[stat])/(max_data[stat] - min_data[stat])\n",
    "    return data"
   ]
  },
  {
   "cell_type": "code",
   "execution_count": 31,
   "metadata": {
    "collapsed": true
   },
   "outputs": [],
   "source": [
    "def prepare(data):\n",
    "    X = data.iloc[:,3:].values\n",
    "    # we insert an all-ones column at index 0\n",
    "    X = np.insert(X, 0, 1, axis=1)\n",
    "    # get the first column of the data\n",
    "    y = data.iloc[:,0:1].values\n",
    "    return X,y"
   ]
  },
  {
   "cell_type": "code",
   "execution_count": 32,
   "metadata": {
    "collapsed": true
   },
   "outputs": [],
   "source": [
    "def split_train_test(X,y,pct=80):\n",
    "    n = X.shape[0]\n",
    "    s = round(n * pct / 100)\n",
    "    \n",
    "    indices = np.random.permutation(n)\n",
    "    train_idx, test_idx = indices[:s], indices[s:]\n",
    "    \n",
    "    X_train, X_test = X[train_idx,:], X[test_idx,:]\n",
    "    y_train, y_test = y[train_idx,:], y[test_idx,:]\n",
    "    \n",
    "    return X_train, y_train, X_test, y_test"
   ]
  },
  {
   "cell_type": "code",
   "execution_count": 33,
   "metadata": {},
   "outputs": [],
   "source": [
    "data_2000_2001 = pd.read_csv('game_data/game_data_2000_2001.csv', header=0)\n",
    "data_2001_2002 = pd.read_csv('game_data/game_data_2001_2002.csv', header=0)\n",
    "data_2002_2003 = pd.read_csv('game_data/game_data_2002_2003.csv', header=0)\n",
    "data_2003_2004 = pd.read_csv('game_data/game_data_2003_2004.csv', header=0)\n",
    "data_2005_2006 = pd.read_csv('game_data/game_data_2005_2006.csv', header=0)\n",
    "data_2006_2007 = pd.read_csv('game_data/game_data_2006_2007.csv', header=0)\n",
    "data_2007_2008 = pd.read_csv('game_data/game_data_2007_2008.csv', header=0)\n",
    "data_2008_2009 = pd.read_csv('game_data/game_data_2008_2009.csv', header=0)\n",
    "data_2009_2010 = pd.read_csv('game_data/game_data_2009_2010.csv', header=0)\n",
    "data_2010_2011 = pd.read_csv('game_data/game_data_2010_2011.csv', header=0)\n",
    "data_2011_2012 = pd.read_csv('game_data/game_data_2011_2012.csv', header=0)\n",
    "data_2012_2013 = pd.read_csv('game_data/game_data_2012_2013.csv', header=0)\n",
    "data_2013_2014 = pd.read_csv('game_data/game_data_2013_2014.csv', header=0)\n",
    "data_2014_2015 = pd.read_csv('game_data/game_data_2014_2015.csv', header=0)\n",
    "data_2015_2016 = pd.read_csv('game_data/game_data_2015_2016.csv', header=0)\n",
    "data_2016_2017 = pd.read_csv('game_data/game_data_2016_2017.csv', header=0)\n",
    "data_2017_2018 = pd.read_csv('game_data/game_data_2017_2018.csv', header=0)\n",
    "\n",
    "#each one of these data sets needs to be normalized \n",
    "data_2000_2001 = normalize(data_2000_2001)\n",
    "data_2001_2002 = normalize(data_2001_2002)\n",
    "data_2002_2003 = normalize(data_2002_2003)\n",
    "data_2003_2004 = normalize(data_2003_2004)\n",
    "data_2005_2006 = normalize(data_2005_2006)\n",
    "data_2006_2007 = normalize(data_2006_2007)\n",
    "data_2007_2008 = normalize(data_2007_2008)\n",
    "data_2008_2009 = normalize(data_2008_2009)\n",
    "data_2009_2010 = normalize(data_2009_2010)\n",
    "data_2010_2011 = normalize(data_2010_2011)\n",
    "data_2011_2012 = normalize(data_2011_2012)\n",
    "data_2012_2013 = normalize(data_2012_2013)\n",
    "data_2013_2014 = normalize(data_2013_2014)\n",
    "data_2014_2015 = normalize(data_2014_2015)\n",
    "data_2016_2017 = normalize(data_2016_2017)\n",
    "data_2017_2018 = normalize(data_2017_2018)\n",
    "\n",
    "\n",
    "frames = [data_2000_2001, data_2001_2002, data_2002_2003, data_2003_2004, data_2005_2006, \n",
    "          data_2006_2007, data_2007_2008, data_2008_2009, data_2009_2010, data_2010_2011, \n",
    "          data_2011_2012, data_2012_2013, data_2013_2014, data_2014_2015, data_2015_2016, \n",
    "          data_2016_2017, data_2017_2018]\n",
    "data = pd.concat(frames)\n",
    "\n",
    "# # data = data.drop(['winner', 'awayID', 'homeID', 'away_wins', 'away_losses', 'away_ot',\n",
    "#        'away_pts', 'away_ptPctg', 'away_goalsPerGame',\n",
    "#        'away_goalsAgainstPerGame', 'away_evGGARatio',\n",
    "#        'away_powerPlayPercentage', 'away_powerPlayGoals',\n",
    "#        'away_powerPlayGoalsAgainst', 'away_powerPlayOpportunities',\n",
    "#        'away_penaltyKillPercentage', 'away_shotsPerGame', 'away_shotsAllowed',\n",
    "#        'away_winScoreFirst', 'away_winOppScoreFirst', 'away_winLeadFirstPer',\n",
    "#        'away_winLeadSecondPer', 'away_winOutshootOpp', 'away_winOutshotByOpp',\n",
    "#        'away_faceOffsTaken', 'away_faceOffsWon', 'away_faceOffsLost',\n",
    "#        'away_faceOffWinPercentage', 'away_shootingPctg', 'away_savePctg',\n",
    "#        'away_PDO', 'home_wins', 'home_losses', 'home_ot', 'home_pts',\n",
    "#        'home_ptPctg', 'home_goalsPerGame', 'home_goalsAgainstPerGame',\n",
    "#        'home_evGGARatio', 'home_powerPlayPercentage', 'home_powerPlayGoals',\n",
    "#        'home_powerPlayGoalsAgainst', 'home_powerPlayOpportunities',\n",
    "#        'home_penaltyKillPercentage', 'home_shotsPerGame', 'home_shotsAllowed',\n",
    "#        'home_winScoreFirst', 'home_winOppScoreFirst', 'home_winLeadFirstPer',\n",
    "#        'home_winLeadSecondPer', 'home_winOutshootOpp', 'home_winOutshotByOpp',\n",
    "#        'home_faceOffsTaken', 'home_faceOffsWon', 'home_faceOffsLost',\n",
    "#        'home_faceOffWinPercentage', 'home_shootingPctg', 'home_savePctg',\n",
    "#        'home_PDO'], axis=1)\n",
    "data = data.drop(['away_wins', 'away_losses', 'away_ot',\n",
    "       'away_pts', 'away_ptPctg', 'away_powerPlayGoals',\n",
    "       'away_powerPlayGoalsAgainst', 'away_powerPlayOpportunities','away_shotsPerGame', 'away_shotsAllowed',\n",
    "       'away_winScoreFirst', 'away_winOppScoreFirst', 'away_winLeadFirstPer',\n",
    "       'away_winLeadSecondPer', 'away_winOutshootOpp', 'away_winOutshotByOpp',\n",
    "       'away_faceOffsTaken', 'away_faceOffsWon', 'away_faceOffsLost',\n",
    "       'away_faceOffWinPercentage',\n",
    "       'home_wins', 'home_losses', 'home_ot',\n",
    "       'home_pts', 'home_ptPctg', 'home_powerPlayGoals',\n",
    "       'home_powerPlayGoalsAgainst', 'home_powerPlayOpportunities','home_shotsPerGame', 'home_shotsAllowed',\n",
    "       'home_winScoreFirst', 'home_winOppScoreFirst', 'home_winLeadFirstPer',\n",
    "       'home_winLeadSecondPer', 'home_winOutshootOpp', 'home_winOutshotByOpp',\n",
    "       'home_faceOffsTaken', 'home_faceOffsWon', 'home_faceOffsLost',\n",
    "       'home_faceOffWinPercentage'], axis=1)\n",
    "cols = data.columns\n",
    "\n",
    "X,y = prepare(data)\n",
    "\n",
    "X,Y,X_test,Y_test = split_train_test(X,y,pct=80)\n",
    "Y = np.concatenate(Y, axis=0 )"
   ]
  },
  {
   "cell_type": "code",
   "execution_count": 34,
   "metadata": {},
   "outputs": [
    {
     "data": {
      "text/html": [
       "<div>\n",
       "<style>\n",
       "    .dataframe thead tr:only-child th {\n",
       "        text-align: right;\n",
       "    }\n",
       "\n",
       "    .dataframe thead th {\n",
       "        text-align: left;\n",
       "    }\n",
       "\n",
       "    .dataframe tbody tr th {\n",
       "        vertical-align: top;\n",
       "    }\n",
       "</style>\n",
       "<table border=\"1\" class=\"dataframe\">\n",
       "  <thead>\n",
       "    <tr style=\"text-align: right;\">\n",
       "      <th></th>\n",
       "      <th>winner</th>\n",
       "      <th>awayID</th>\n",
       "      <th>homeID</th>\n",
       "      <th>away_goalsPerGame</th>\n",
       "      <th>away_goalsAgainstPerGame</th>\n",
       "      <th>away_evGGARatio</th>\n",
       "      <th>away_powerPlayPercentage</th>\n",
       "      <th>away_penaltyKillPercentage</th>\n",
       "      <th>away_shootingPctg</th>\n",
       "      <th>away_savePctg</th>\n",
       "      <th>away_PDO</th>\n",
       "      <th>home_goalsPerGame</th>\n",
       "      <th>home_goalsAgainstPerGame</th>\n",
       "      <th>home_evGGARatio</th>\n",
       "      <th>home_powerPlayPercentage</th>\n",
       "      <th>home_penaltyKillPercentage</th>\n",
       "      <th>home_shootingPctg</th>\n",
       "      <th>home_savePctg</th>\n",
       "      <th>home_PDO</th>\n",
       "    </tr>\n",
       "  </thead>\n",
       "  <tbody>\n",
       "    <tr>\n",
       "      <th>0</th>\n",
       "      <td>0</td>\n",
       "      <td>21</td>\n",
       "      <td>25</td>\n",
       "      <td>0.803099</td>\n",
       "      <td>0.075019</td>\n",
       "      <td>0.789802</td>\n",
       "      <td>0.932331</td>\n",
       "      <td>0.475248</td>\n",
       "      <td>0.885714</td>\n",
       "      <td>0.700000</td>\n",
       "      <td>1.020</td>\n",
       "      <td>0.574564</td>\n",
       "      <td>0.027842</td>\n",
       "      <td>0.620057</td>\n",
       "      <td>0.751880</td>\n",
       "      <td>0.821782</td>\n",
       "      <td>0.942857</td>\n",
       "      <td>0.733333</td>\n",
       "      <td>1.023</td>\n",
       "    </tr>\n",
       "    <tr>\n",
       "      <th>1</th>\n",
       "      <td>0</td>\n",
       "      <td>9</td>\n",
       "      <td>6</td>\n",
       "      <td>0.834087</td>\n",
       "      <td>0.197989</td>\n",
       "      <td>0.734781</td>\n",
       "      <td>0.676692</td>\n",
       "      <td>0.841584</td>\n",
       "      <td>0.828571</td>\n",
       "      <td>0.733333</td>\n",
       "      <td>1.019</td>\n",
       "      <td>0.464170</td>\n",
       "      <td>0.613302</td>\n",
       "      <td>0.795786</td>\n",
       "      <td>0.511278</td>\n",
       "      <td>0.475248</td>\n",
       "      <td>0.400000</td>\n",
       "      <td>0.000000</td>\n",
       "      <td>0.982</td>\n",
       "    </tr>\n",
       "    <tr>\n",
       "      <th>2</th>\n",
       "      <td>1</td>\n",
       "      <td>16</td>\n",
       "      <td>7</td>\n",
       "      <td>0.330536</td>\n",
       "      <td>0.584687</td>\n",
       "      <td>0.664542</td>\n",
       "      <td>0.248120</td>\n",
       "      <td>0.594059</td>\n",
       "      <td>0.428571</td>\n",
       "      <td>0.066667</td>\n",
       "      <td>0.985</td>\n",
       "      <td>0.393802</td>\n",
       "      <td>0.000000</td>\n",
       "      <td>0.502732</td>\n",
       "      <td>0.488722</td>\n",
       "      <td>1.000000</td>\n",
       "      <td>0.485714</td>\n",
       "      <td>1.000000</td>\n",
       "      <td>1.015</td>\n",
       "    </tr>\n",
       "    <tr>\n",
       "      <th>3</th>\n",
       "      <td>1</td>\n",
       "      <td>23</td>\n",
       "      <td>4</td>\n",
       "      <td>0.559070</td>\n",
       "      <td>0.508894</td>\n",
       "      <td>0.767300</td>\n",
       "      <td>0.563910</td>\n",
       "      <td>0.287129</td>\n",
       "      <td>0.457143</td>\n",
       "      <td>0.066667</td>\n",
       "      <td>0.986</td>\n",
       "      <td>0.566817</td>\n",
       "      <td>0.216551</td>\n",
       "      <td>1.000000</td>\n",
       "      <td>0.458647</td>\n",
       "      <td>0.445545</td>\n",
       "      <td>0.457143</td>\n",
       "      <td>0.566667</td>\n",
       "      <td>1.001</td>\n",
       "    </tr>\n",
       "    <tr>\n",
       "      <th>4</th>\n",
       "      <td>0</td>\n",
       "      <td>17</td>\n",
       "      <td>20</td>\n",
       "      <td>0.668819</td>\n",
       "      <td>0.169374</td>\n",
       "      <td>0.849896</td>\n",
       "      <td>0.939850</td>\n",
       "      <td>0.772277</td>\n",
       "      <td>0.371429</td>\n",
       "      <td>0.766667</td>\n",
       "      <td>1.004</td>\n",
       "      <td>0.227889</td>\n",
       "      <td>0.490333</td>\n",
       "      <td>0.444459</td>\n",
       "      <td>0.398496</td>\n",
       "      <td>0.188119</td>\n",
       "      <td>0.171429</td>\n",
       "      <td>0.266667</td>\n",
       "      <td>0.982</td>\n",
       "    </tr>\n",
       "  </tbody>\n",
       "</table>\n",
       "</div>"
      ],
      "text/plain": [
       "   winner  awayID  homeID  away_goalsPerGame  away_goalsAgainstPerGame  \\\n",
       "0       0      21      25           0.803099                  0.075019   \n",
       "1       0       9       6           0.834087                  0.197989   \n",
       "2       1      16       7           0.330536                  0.584687   \n",
       "3       1      23       4           0.559070                  0.508894   \n",
       "4       0      17      20           0.668819                  0.169374   \n",
       "\n",
       "   away_evGGARatio  away_powerPlayPercentage  away_penaltyKillPercentage  \\\n",
       "0         0.789802                  0.932331                    0.475248   \n",
       "1         0.734781                  0.676692                    0.841584   \n",
       "2         0.664542                  0.248120                    0.594059   \n",
       "3         0.767300                  0.563910                    0.287129   \n",
       "4         0.849896                  0.939850                    0.772277   \n",
       "\n",
       "   away_shootingPctg  away_savePctg  away_PDO  home_goalsPerGame  \\\n",
       "0           0.885714       0.700000     1.020           0.574564   \n",
       "1           0.828571       0.733333     1.019           0.464170   \n",
       "2           0.428571       0.066667     0.985           0.393802   \n",
       "3           0.457143       0.066667     0.986           0.566817   \n",
       "4           0.371429       0.766667     1.004           0.227889   \n",
       "\n",
       "   home_goalsAgainstPerGame  home_evGGARatio  home_powerPlayPercentage  \\\n",
       "0                  0.027842         0.620057                  0.751880   \n",
       "1                  0.613302         0.795786                  0.511278   \n",
       "2                  0.000000         0.502732                  0.488722   \n",
       "3                  0.216551         1.000000                  0.458647   \n",
       "4                  0.490333         0.444459                  0.398496   \n",
       "\n",
       "   home_penaltyKillPercentage  home_shootingPctg  home_savePctg  home_PDO  \n",
       "0                    0.821782           0.942857       0.733333     1.023  \n",
       "1                    0.475248           0.400000       0.000000     0.982  \n",
       "2                    1.000000           0.485714       1.000000     1.015  \n",
       "3                    0.445545           0.457143       0.566667     1.001  \n",
       "4                    0.188119           0.171429       0.266667     0.982  "
      ]
     },
     "execution_count": 34,
     "metadata": {},
     "output_type": "execute_result"
    }
   ],
   "source": [
    "data.head()"
   ]
  },
  {
   "cell_type": "code",
   "execution_count": 79,
   "metadata": {},
   "outputs": [
    {
     "data": {
      "text/plain": [
       "Index(['winner', 'awayID', 'homeID', 'away_goalsPerGame',\n",
       "       'away_goalsAgainstPerGame', 'away_evGGARatio',\n",
       "       'away_powerPlayPercentage', 'away_penaltyKillPercentage',\n",
       "       'away_shootingPctg', 'away_savePctg', 'away_PDO', 'home_goalsPerGame',\n",
       "       'home_goalsAgainstPerGame', 'home_evGGARatio',\n",
       "       'home_powerPlayPercentage', 'home_penaltyKillPercentage',\n",
       "       'home_shootingPctg', 'home_savePctg', 'home_PDO'],\n",
       "      dtype='object')"
      ]
     },
     "execution_count": 79,
     "metadata": {},
     "output_type": "execute_result"
    }
   ],
   "source": [
    "cols"
   ]
  },
  {
   "cell_type": "code",
   "execution_count": 35,
   "metadata": {
    "collapsed": true
   },
   "outputs": [],
   "source": [
    "from sklearn import svm, datasets"
   ]
  },
  {
   "cell_type": "markdown",
   "metadata": {},
   "source": [
    "Linear SVC"
   ]
  },
  {
   "cell_type": "code",
   "execution_count": 36,
   "metadata": {
    "collapsed": true
   },
   "outputs": [],
   "source": [
    "linear_svc = svm.SVC(kernel='linear')"
   ]
  },
  {
   "cell_type": "code",
   "execution_count": 37,
   "metadata": {},
   "outputs": [
    {
     "data": {
      "text/plain": [
       "SVC(C=1.0, cache_size=200, class_weight=None, coef0=0.0,\n",
       "  decision_function_shape='ovr', degree=3, gamma='auto', kernel='linear',\n",
       "  max_iter=-1, probability=False, random_state=None, shrinking=True,\n",
       "  tol=0.001, verbose=False)"
      ]
     },
     "execution_count": 37,
     "metadata": {},
     "output_type": "execute_result"
    }
   ],
   "source": [
    "linear_svc.fit(X, Y)"
   ]
  },
  {
   "cell_type": "code",
   "execution_count": 38,
   "metadata": {
    "collapsed": true
   },
   "outputs": [],
   "source": [
    "linear_Y_pred = linear_svc.predict(X_test)"
   ]
  },
  {
   "cell_type": "code",
   "execution_count": 39,
   "metadata": {},
   "outputs": [
    {
     "data": {
      "text/plain": [
       "array([1, 1, 1, ..., 1, 0, 0])"
      ]
     },
     "execution_count": 39,
     "metadata": {},
     "output_type": "execute_result"
    }
   ],
   "source": [
    "linear_Y_pred"
   ]
  },
  {
   "cell_type": "code",
   "execution_count": 40,
   "metadata": {
    "collapsed": true
   },
   "outputs": [],
   "source": [
    "def accuracy(pred, labels):\n",
    "    count = 0\n",
    "    for i in range(0, len(pred)):\n",
    "        if(pred[i] == labels[i]):\n",
    "            count += 1\n",
    "    return count/len(pred)"
   ]
  },
  {
   "cell_type": "code",
   "execution_count": 41,
   "metadata": {
    "collapsed": true
   },
   "outputs": [],
   "source": [
    "lin_acc = accuracy(linear_Y_pred, Y_test)"
   ]
  },
  {
   "cell_type": "code",
   "execution_count": 42,
   "metadata": {},
   "outputs": [
    {
     "name": "stdout",
     "output_type": "stream",
     "text": [
      "0.5951627486437613\n"
     ]
    }
   ],
   "source": [
    "print(lin_acc)"
   ]
  },
  {
   "cell_type": "code",
   "execution_count": 43,
   "metadata": {
    "collapsed": true
   },
   "outputs": [],
   "source": [
    "from sklearn.metrics import classification_report, confusion_matrix   "
   ]
  },
  {
   "cell_type": "code",
   "execution_count": 44,
   "metadata": {},
   "outputs": [
    {
     "name": "stdout",
     "output_type": "stream",
     "text": [
      "[[ 909 1101]\n",
      " [ 690 1724]]\n",
      "             precision    recall  f1-score   support\n",
      "\n",
      "          0       0.57      0.45      0.50      2010\n",
      "          1       0.61      0.71      0.66      2414\n",
      "\n",
      "avg / total       0.59      0.60      0.59      4424\n",
      "\n"
     ]
    }
   ],
   "source": [
    "print(confusion_matrix(Y_test, linear_Y_pred))  \n",
    "print(classification_report(Y_test, linear_Y_pred)) "
   ]
  },
  {
   "cell_type": "code",
   "execution_count": null,
   "metadata": {
    "collapsed": true
   },
   "outputs": [],
   "source": []
  },
  {
   "cell_type": "markdown",
   "metadata": {},
   "source": [
    "Polynomial SVC - degree 2"
   ]
  },
  {
   "cell_type": "code",
   "execution_count": 45,
   "metadata": {
    "collapsed": true
   },
   "outputs": [],
   "source": [
    "poly_svc = svm.SVC(kernel='poly', degree=2)"
   ]
  },
  {
   "cell_type": "code",
   "execution_count": 46,
   "metadata": {},
   "outputs": [
    {
     "data": {
      "text/plain": [
       "SVC(C=1.0, cache_size=200, class_weight=None, coef0=0.0,\n",
       "  decision_function_shape='ovr', degree=2, gamma='auto', kernel='poly',\n",
       "  max_iter=-1, probability=False, random_state=None, shrinking=True,\n",
       "  tol=0.001, verbose=False)"
      ]
     },
     "execution_count": 46,
     "metadata": {},
     "output_type": "execute_result"
    }
   ],
   "source": [
    "poly_svc.fit(X, Y)"
   ]
  },
  {
   "cell_type": "code",
   "execution_count": 47,
   "metadata": {
    "collapsed": true
   },
   "outputs": [],
   "source": [
    "poly_Y_pred = poly_svc.predict(X_test)  "
   ]
  },
  {
   "cell_type": "code",
   "execution_count": 48,
   "metadata": {
    "collapsed": true
   },
   "outputs": [],
   "source": [
    "poly_acc = accuracy(poly_Y_pred, Y_test)"
   ]
  },
  {
   "cell_type": "code",
   "execution_count": 49,
   "metadata": {},
   "outputs": [
    {
     "name": "stdout",
     "output_type": "stream",
     "text": [
      "0.5940325497287523\n"
     ]
    }
   ],
   "source": [
    "print(poly_acc)"
   ]
  },
  {
   "cell_type": "code",
   "execution_count": 50,
   "metadata": {},
   "outputs": [
    {
     "name": "stdout",
     "output_type": "stream",
     "text": [
      "[[ 689 1321]\n",
      " [ 475 1939]]\n",
      "             precision    recall  f1-score   support\n",
      "\n",
      "          0       0.59      0.34      0.43      2010\n",
      "          1       0.59      0.80      0.68      2414\n",
      "\n",
      "avg / total       0.59      0.59      0.57      4424\n",
      "\n"
     ]
    }
   ],
   "source": [
    "print(confusion_matrix(Y_test, poly_Y_pred))  \n",
    "print(classification_report(Y_test, poly_Y_pred)) "
   ]
  },
  {
   "cell_type": "markdown",
   "metadata": {},
   "source": [
    "Polynomial SVC - degree 5"
   ]
  },
  {
   "cell_type": "code",
   "execution_count": 51,
   "metadata": {
    "collapsed": true
   },
   "outputs": [],
   "source": [
    "poly5_svc = svm.SVC(kernel='poly', degree=3)"
   ]
  },
  {
   "cell_type": "code",
   "execution_count": 52,
   "metadata": {},
   "outputs": [
    {
     "data": {
      "text/plain": [
       "SVC(C=1.0, cache_size=200, class_weight=None, coef0=0.0,\n",
       "  decision_function_shape='ovr', degree=3, gamma='auto', kernel='poly',\n",
       "  max_iter=-1, probability=False, random_state=None, shrinking=True,\n",
       "  tol=0.001, verbose=False)"
      ]
     },
     "execution_count": 52,
     "metadata": {},
     "output_type": "execute_result"
    }
   ],
   "source": [
    "poly5_svc.fit(X, Y)"
   ]
  },
  {
   "cell_type": "code",
   "execution_count": 53,
   "metadata": {
    "collapsed": true
   },
   "outputs": [],
   "source": [
    "poly5_Y_pred = poly5_svc.predict(X_test)  "
   ]
  },
  {
   "cell_type": "code",
   "execution_count": 54,
   "metadata": {
    "collapsed": true
   },
   "outputs": [],
   "source": [
    "poly5_acc = accuracy(poly5_Y_pred, Y_test)"
   ]
  },
  {
   "cell_type": "code",
   "execution_count": 55,
   "metadata": {},
   "outputs": [
    {
     "name": "stdout",
     "output_type": "stream",
     "text": [
      "0.5892857142857143\n"
     ]
    }
   ],
   "source": [
    "print(poly5_acc)"
   ]
  },
  {
   "cell_type": "code",
   "execution_count": 56,
   "metadata": {},
   "outputs": [
    {
     "name": "stdout",
     "output_type": "stream",
     "text": [
      "[[ 728 1282]\n",
      " [ 535 1879]]\n",
      "             precision    recall  f1-score   support\n",
      "\n",
      "          0       0.58      0.36      0.44      2010\n",
      "          1       0.59      0.78      0.67      2414\n",
      "\n",
      "avg / total       0.59      0.59      0.57      4424\n",
      "\n"
     ]
    }
   ],
   "source": [
    "print(confusion_matrix(Y_test, poly5_Y_pred))  \n",
    "print(classification_report(Y_test, poly5_Y_pred)) "
   ]
  },
  {
   "cell_type": "markdown",
   "metadata": {},
   "source": [
    "Gaussian SVC "
   ]
  },
  {
   "cell_type": "code",
   "execution_count": 57,
   "metadata": {
    "collapsed": true
   },
   "outputs": [],
   "source": [
    "gaussian_svc = svm.SVC(kernel='rbf')"
   ]
  },
  {
   "cell_type": "code",
   "execution_count": 58,
   "metadata": {},
   "outputs": [
    {
     "data": {
      "text/plain": [
       "SVC(C=1.0, cache_size=200, class_weight=None, coef0=0.0,\n",
       "  decision_function_shape='ovr', degree=3, gamma='auto', kernel='rbf',\n",
       "  max_iter=-1, probability=False, random_state=None, shrinking=True,\n",
       "  tol=0.001, verbose=False)"
      ]
     },
     "execution_count": 58,
     "metadata": {},
     "output_type": "execute_result"
    }
   ],
   "source": [
    "gaussian_svc.fit(X, Y)"
   ]
  },
  {
   "cell_type": "code",
   "execution_count": 59,
   "metadata": {
    "collapsed": true
   },
   "outputs": [],
   "source": [
    "gaussian_Y_pred = gaussian_svc.predict(X_test)  "
   ]
  },
  {
   "cell_type": "code",
   "execution_count": 60,
   "metadata": {
    "collapsed": true
   },
   "outputs": [],
   "source": [
    "gaussian_acc = accuracy(gaussian_Y_pred, Y_test)"
   ]
  },
  {
   "cell_type": "code",
   "execution_count": 61,
   "metadata": {},
   "outputs": [
    {
     "name": "stdout",
     "output_type": "stream",
     "text": [
      "0.5910940325497287\n"
     ]
    }
   ],
   "source": [
    "print(gaussian_acc)"
   ]
  },
  {
   "cell_type": "code",
   "execution_count": 62,
   "metadata": {},
   "outputs": [
    {
     "name": "stdout",
     "output_type": "stream",
     "text": [
      "[[ 689 1321]\n",
      " [ 475 1939]]\n",
      "             precision    recall  f1-score   support\n",
      "\n",
      "          0       0.59      0.34      0.43      2010\n",
      "          1       0.59      0.80      0.68      2414\n",
      "\n",
      "avg / total       0.59      0.59      0.57      4424\n",
      "\n"
     ]
    }
   ],
   "source": [
    "print(confusion_matrix(Y_test, poly_Y_pred))  \n",
    "print(classification_report(Y_test, poly_Y_pred)) "
   ]
  },
  {
   "cell_type": "markdown",
   "metadata": {},
   "source": [
    "Sigmoid SVC"
   ]
  },
  {
   "cell_type": "code",
   "execution_count": 63,
   "metadata": {
    "collapsed": true
   },
   "outputs": [],
   "source": [
    "sigmoid_svc = svm.SVC(kernel='sigmoid')"
   ]
  },
  {
   "cell_type": "code",
   "execution_count": 64,
   "metadata": {},
   "outputs": [
    {
     "data": {
      "text/plain": [
       "SVC(C=1.0, cache_size=200, class_weight=None, coef0=0.0,\n",
       "  decision_function_shape='ovr', degree=3, gamma='auto', kernel='sigmoid',\n",
       "  max_iter=-1, probability=False, random_state=None, shrinking=True,\n",
       "  tol=0.001, verbose=False)"
      ]
     },
     "execution_count": 64,
     "metadata": {},
     "output_type": "execute_result"
    }
   ],
   "source": [
    "sigmoid_svc.fit(X, Y)"
   ]
  },
  {
   "cell_type": "code",
   "execution_count": 65,
   "metadata": {
    "collapsed": true
   },
   "outputs": [],
   "source": [
    "sigmoid_Y_pred = sigmoid_svc.predict(X_test)  "
   ]
  },
  {
   "cell_type": "code",
   "execution_count": 66,
   "metadata": {
    "collapsed": true
   },
   "outputs": [],
   "source": [
    "sigmoid_acc = accuracy(sigmoid_Y_pred, Y_test)"
   ]
  },
  {
   "cell_type": "code",
   "execution_count": 67,
   "metadata": {},
   "outputs": [
    {
     "name": "stdout",
     "output_type": "stream",
     "text": [
      "0.5397830018083183\n"
     ]
    }
   ],
   "source": [
    "print(sigmoid_acc)"
   ]
  },
  {
   "cell_type": "code",
   "execution_count": 68,
   "metadata": {},
   "outputs": [
    {
     "name": "stdout",
     "output_type": "stream",
     "text": [
      "[[ 986 1024]\n",
      " [1012 1402]]\n",
      "             precision    recall  f1-score   support\n",
      "\n",
      "          0       0.49      0.49      0.49      2010\n",
      "          1       0.58      0.58      0.58      2414\n",
      "\n",
      "avg / total       0.54      0.54      0.54      4424\n",
      "\n"
     ]
    }
   ],
   "source": [
    "print(confusion_matrix(Y_test, sigmoid_Y_pred))  \n",
    "print(classification_report(Y_test, sigmoid_Y_pred)) "
   ]
  },
  {
   "cell_type": "code",
   "execution_count": 69,
   "metadata": {},
   "outputs": [
    {
     "data": {
      "text/plain": [
       "array([1, 1, 1, ..., 1, 0, 0])"
      ]
     },
     "execution_count": 69,
     "metadata": {},
     "output_type": "execute_result"
    }
   ],
   "source": [
    "linear_Y_pred"
   ]
  },
  {
   "cell_type": "code",
   "execution_count": 70,
   "metadata": {},
   "outputs": [
    {
     "data": {
      "text/plain": [
       "array([1, 1, 1, ..., 1, 1, 0])"
      ]
     },
     "execution_count": 70,
     "metadata": {},
     "output_type": "execute_result"
    }
   ],
   "source": [
    "poly_Y_pred"
   ]
  },
  {
   "cell_type": "code",
   "execution_count": 71,
   "metadata": {},
   "outputs": [
    {
     "data": {
      "text/plain": [
       "array([1, 1, 1, ..., 1, 1, 0])"
      ]
     },
     "execution_count": 71,
     "metadata": {},
     "output_type": "execute_result"
    }
   ],
   "source": [
    "poly5_Y_pred"
   ]
  },
  {
   "cell_type": "code",
   "execution_count": 72,
   "metadata": {},
   "outputs": [
    {
     "data": {
      "text/plain": [
       "array([1, 1, 1, ..., 1, 1, 1])"
      ]
     },
     "execution_count": 72,
     "metadata": {},
     "output_type": "execute_result"
    }
   ],
   "source": [
    "gaussian_Y_pred"
   ]
  },
  {
   "cell_type": "code",
   "execution_count": 73,
   "metadata": {},
   "outputs": [
    {
     "data": {
      "text/plain": [
       "array([0, 1, 1, ..., 0, 1, 0])"
      ]
     },
     "execution_count": 73,
     "metadata": {},
     "output_type": "execute_result"
    }
   ],
   "source": [
    "sigmoid_Y_pred"
   ]
  },
  {
   "cell_type": "code",
   "execution_count": 74,
   "metadata": {},
   "outputs": [
    {
     "data": {
      "text/plain": [
       "array([1, 1, 1, ..., 0, 0, 0])"
      ]
     },
     "execution_count": 74,
     "metadata": {},
     "output_type": "execute_result"
    }
   ],
   "source": [
    "Y_tmp = np.concatenate( Y_test, axis=0 )\n",
    "Y_tmp"
   ]
  },
  {
   "cell_type": "code",
   "execution_count": 75,
   "metadata": {
    "collapsed": true
   },
   "outputs": [],
   "source": [
    "def ensamble(pred1, pred2, pred3, pred4, pred5):\n",
    "    prediction = []\n",
    "    for i in range(0, len(pred1)):\n",
    "        p = (pred1[i] + pred2[i] + pred3[i] + pred4[i] + pred5[i])\n",
    "        p = p/5\n",
    "        if(p < 0.5):\n",
    "            prediction.append(0)\n",
    "        else:\n",
    "            prediction.append(1)\n",
    "    return prediction"
   ]
  },
  {
   "cell_type": "code",
   "execution_count": 76,
   "metadata": {
    "collapsed": true
   },
   "outputs": [],
   "source": [
    "ensamble_pred = ensamble(linear_Y_pred, poly_Y_pred, poly5_Y_pred, gaussian_Y_pred, sigmoid_Y_pred)"
   ]
  },
  {
   "cell_type": "code",
   "execution_count": 77,
   "metadata": {
    "collapsed": true
   },
   "outputs": [],
   "source": [
    "ensamble_acc = accuracy(ensamble_pred, Y_test)"
   ]
  },
  {
   "cell_type": "code",
   "execution_count": 78,
   "metadata": {},
   "outputs": [
    {
     "name": "stdout",
     "output_type": "stream",
     "text": [
      "0.5906419529837251\n"
     ]
    }
   ],
   "source": [
    "print(ensamble_acc)"
   ]
  },
  {
   "cell_type": "code",
   "execution_count": null,
   "metadata": {
    "collapsed": true
   },
   "outputs": [],
   "source": []
  }
 ],
 "metadata": {
  "kernelspec": {
   "display_name": "Python 3",
   "language": "python",
   "name": "python3"
  },
  "language_info": {
   "codemirror_mode": {
    "name": "ipython",
    "version": 3
   },
   "file_extension": ".py",
   "mimetype": "text/x-python",
   "name": "python",
   "nbconvert_exporter": "python",
   "pygments_lexer": "ipython3",
   "version": "3.6.3"
  }
 },
 "nbformat": 4,
 "nbformat_minor": 2
}
